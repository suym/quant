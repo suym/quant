{
 "cells": [
  {
   "cell_type": "markdown",
   "metadata": {},
   "source": [
    "# Python "
   ]
  },
  {
   "cell_type": "markdown",
   "metadata": {},
   "source": [
    "## Numpy使用记录:"
   ]
  },
  {
   "cell_type": "code",
   "execution_count": 3,
   "metadata": {},
   "outputs": [
    {
     "name": "stdout",
     "output_type": "stream",
     "text": [
      "[ 6.   7.5  8.   0.   1. ]\n",
      "<type 'numpy.ndarray'>\n"
     ]
    }
   ],
   "source": [
    "import numpy as np\n",
    "# 使用array函数创建数组，它接受一切序列型的对象（包括其他数组），例如list对象\n",
    "data1 = [6, 7.5, 8, 0, 1]\n",
    "arr1 = np.array(data1)\n",
    "print arr1\n",
    "print type(arr1)"
   ]
  },
  {
   "cell_type": "code",
   "execution_count": 6,
   "metadata": {},
   "outputs": [
    {
     "name": "stdout",
     "output_type": "stream",
     "text": [
      "2\n",
      "(2, 4)\n",
      "float64\n",
      "int64\n",
      "[[1 2 3 4]\n",
      " [5 6 7 8]]\n",
      "<type 'numpy.ndarray'>\n"
     ]
    }
   ],
   "source": [
    "#嵌套序列（比如由一组等长列表组成的列表）将会被转化为一个多维数组\n",
    "data2 = [[1, 2, 3, 4], [5, 6, 7, 8]]\n",
    "arr2 = np.array(data2)\n",
    "#数组维度\n",
    "print arr2.ndim\n",
    "#数组形状\n",
    "print arr2.shape\n",
    "#np.array会尝试为新建的数组推断出一个合适的数据类型，可调用数组对象的dtype对象\n",
    "print arr1.dtype\n",
    "print arr2.dtype\n",
    "print arr2\n",
    "print type(arr2)"
   ]
  },
  {
   "cell_type": "code",
   "execution_count": 10,
   "metadata": {},
   "outputs": [
    {
     "name": "stdout",
     "output_type": "stream",
     "text": [
      "[ 0.  0.  0.  0.  0.  0.  0.  0.  0.  0.]\n",
      "[[ 0.  0.  0.]\n",
      " [ 0.  0.  0.]]\n",
      "[[ 1.  1.  1.]\n",
      " [ 1.  1.  1.]\n",
      " [ 1.  1.  1.]]\n",
      "[[  6.90381976e-310   1.14025924e-316   0.00000000e+000   0.00000000e+000]\n",
      " [  0.00000000e+000   0.00000000e+000   0.00000000e+000   0.00000000e+000]\n",
      " [  0.00000000e+000   0.00000000e+000   0.00000000e+000   0.00000000e+000]\n",
      " [  9.83448340e-317   1.63041663e-322   6.90381976e-310   1.13271782e-316]]\n"
     ]
    }
   ],
   "source": [
    "#除了np.array之外，还有一些函数也可以新建数组，例如，zeros，ones和empty，使用这些函数，只需传入哟个表示形状的\n",
    "#元组就行\n",
    "print np.zeros(10)\n",
    "print np.zeros((2,3))\n",
    "print np.ones((3,3))\n",
    "#输出的并不是全0\n",
    "print np.empty((4,4))"
   ]
  },
  {
   "cell_type": "code",
   "execution_count": 14,
   "metadata": {},
   "outputs": [
    {
     "name": "stdout",
     "output_type": "stream",
     "text": [
      "[ 0  1  2  3  4  5  6  7  8  9 10 11 12 13 14]\n",
      "[ 0  1  2  3  4  5  6  7  8  9 10 11 12 13 14]\n",
      "[ 2  4  6  8 10 12 14]\n",
      "<type 'numpy.ndarray'>\n"
     ]
    }
   ],
   "source": [
    "#arange是python内置函数range的数组版\n",
    "print np.arange(15)\n",
    "print np.arange(0,15)\n",
    "print np.arange(2,15,2)\n",
    "print type(np.arange(15))"
   ]
  },
  {
   "cell_type": "code",
   "execution_count": 16,
   "metadata": {},
   "outputs": [
    {
     "name": "stdout",
     "output_type": "stream",
     "text": [
      "float64\n",
      "int32\n",
      "float64\n",
      "[ 2.  3.  4.]\n"
     ]
    }
   ],
   "source": [
    "#dtype（数据类型）是一个特殊的对象，它含有ndarray将一块内存解释为特定数据类型所需的信息\n",
    "#在存储数据量比较大的时候，要控制数据的存储类型\n",
    "arr3 = np.array([1, 2, 3], dtype = np.float64) #双精度浮点型。占用8字节即64位\n",
    "arr4 = np.array([1, 2, 3], dtype = np.int32) \n",
    "print arr3.dtype\n",
    "print arr4.dtype\n",
    "#可以通过ndarray的astype方法显式地转换其dtype\n",
    "arr5 = np.array([1, 2, 3, 4, 5], dtype = np.int64)\n",
    "float_arr5 = arr5.astype(np.float64)\n",
    "print float_arr5.dtype\n",
    "#也可以将字符串数组（字符是数字，例如‘3‘）通过astype转换为数字\n",
    "number_strings = np.array(['2', '3', '4'], dtype = np.string_ )\n",
    "print number_strings.astype(np.float)"
   ]
  },
  {
   "cell_type": "code",
   "execution_count": 18,
   "metadata": {},
   "outputs": [
    {
     "name": "stdout",
     "output_type": "stream",
     "text": [
      "[[ 1  4  9]\n",
      " [16 25 36]]\n",
      "[[ 2  4  6]\n",
      " [ 8 10 12]]\n",
      "[[1 0 0]\n",
      " [0 0 0]]\n",
      "[[ 0.5  1.   1.5]\n",
      " [ 2.   2.5  3. ]]\n"
     ]
    }
   ],
   "source": [
    "#大小相等的数组之间的任何算术运算都会应用到元素级\n",
    "arr6 = np.array([[1, 2, 3], [4, 5, 6]])\n",
    "print arr6*arr6\n",
    "print arr6+arr6\n",
    "#同样，数组和标量的算术运算也会将那个标量值传播到各个元素\n",
    "print 1/arr6\n",
    "print arr6*0.5"
   ]
  },
  {
   "cell_type": "code",
   "execution_count": 21,
   "metadata": {},
   "outputs": [
    {
     "name": "stdout",
     "output_type": "stream",
     "text": [
      "[0 1 2 3 4 5 6 7 8 9]\n",
      "5\n",
      "[5 6 7]\n",
      "[ 0  1  2  3  4 12 12 12  8  9]\n",
      "[   12 12345    12]\n",
      "[    0     1     2     3     4    12 12345    12     8     9]\n",
      "[ 0  1  2  3  4 64 64 64  8  9]\n"
     ]
    }
   ],
   "source": [
    "#一维数组的索引和切片很简单和python的列表差不多\n",
    "arr7 = np. arange(10)\n",
    "print arr7\n",
    "print arr7[5]\n",
    "print arr7[5:8]\n",
    "arr7[5:8] = 12 #将一个标量值赋值给一个切片时，该值会自动传播到整个选区\n",
    "print arr7\n",
    "#数组的切片是原始数组的视图，任何在视图中的修改都会直接反映到原始数组中\n",
    "arr_slice = arr7[5:8]\n",
    "arr_slice[1] = 12345\n",
    "print arr_slice\n",
    "print arr7\n",
    "arr_slice[:] = 64\n",
    "print arr7\n",
    "#由于Numpy的设计目的是处理打数据，假如numpy坚持要将数据来回复制，那将会产生何等的性能和内存问题\n",
    "#如果你想得到的是ndarray切片的一份副本而非视图，就需要显示地进行复制操作，例如arr5[5:8].copy()"
   ]
  },
  {
   "cell_type": "code",
   "execution_count": null,
   "metadata": {},
   "outputs": [],
   "source": []
  }
 ],
 "metadata": {
  "kernelspec": {
   "display_name": "Python 2",
   "language": "python",
   "name": "python2"
  },
  "language_info": {
   "codemirror_mode": {
    "name": "ipython",
    "version": 2
   },
   "file_extension": ".py",
   "mimetype": "text/x-python",
   "name": "python",
   "nbconvert_exporter": "python",
   "pygments_lexer": "ipython2",
   "version": "2.7.6"
  }
 },
 "nbformat": 4,
 "nbformat_minor": 2
}
