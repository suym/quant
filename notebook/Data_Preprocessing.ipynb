{
 "cells": [
  {
   "cell_type": "code",
   "execution_count": 11,
   "metadata": {},
   "outputs": [
    {
     "name": "stdout",
     "output_type": "stream",
     "text": [
      "before transform:  [[1, 2, 3, 4], [5, 4, 3, 2], [3, 3, 3, 3], [4, 4, 2, 1]]\n",
      "after transform:  \n",
      "[[0 0 1 1]\n",
      " [1 1 1 0]\n",
      " [1 1 1 1]\n",
      " [1 1 0 0]]\n"
     ]
    }
   ],
   "source": [
    "#scikit-learn提供的Binarizer能将数据二元化\n",
    "from sklearn.preprocessing import Binarizer\n",
    "x = [[1,2,3,4],[5,4,3,2],[3,3,3,3],[4,4,2,1]]\n",
    "print \"before transform: \",x\n",
    "binarizer = Binarizer(threshold = 2.5)\n",
    "print \"after transform: \",\"\\n\",binarizer.transform(x)"
   ]
  },
  {
   "cell_type": "code",
   "execution_count": 16,
   "metadata": {},
   "outputs": [
    {
     "name": "stdout",
     "output_type": "stream",
     "text": [
      "before transform:  [[1, 2, 3, 4], [5, 4, 3, 2], [3, 3, 3, 3], [4, 4, 2, 1]]\n",
      "active_features_:  [ 1  3  4  5  8  9 10 13 14 16 17 18 19]\n",
      "feature_indices_:  [ 0  6 11 15 20]\n",
      "n_values_:  [6 5 4 5]\n",
      "after transform:  [[ 1.  0.  0.  0.  1.  0.  0.  0.  1.  0.  0.  1.  0.]]\n"
     ]
    }
   ],
   "source": [
    "#scikit-learn提供的OneHotEncoder实现了独热码 \n",
    "from sklearn.preprocessing import OneHotEncoder\n",
    "x = [[1,2,3,4],[5,4,3,2],[3,3,3,3],[4,4,2,1]]\n",
    "print \"before transform: \", x\n",
    "encoder = OneHotEncoder(sparse = False)\n",
    "encoder.fit(x)\n",
    "print \"active_features_: \",encoder.active_features_\n",
    "print \"feature_indices_: \", encoder.feature_indices_\n",
    "print \"n_values_: \", encoder.n_values_\n",
    "print \"after transform: \", encoder.transform([[1,2,3,3],])"
   ]
  },
  {
   "cell_type": "code",
   "execution_count": 25,
   "metadata": {},
   "outputs": [
    {
     "name": "stdout",
     "output_type": "stream",
     "text": [
      "before transform:  \n",
      "[[1, 5, 1, 2, 10], [2, 6, 3, 2, 7], [3, 7, 5, 6, 4], [4, 8, 7, 8, 1]]\n",
      "min_ is:  [-0.66666667 -3.33333333 -0.33333333 -0.66666667 -0.22222222]\n",
      "scale_ is:  [ 0.66666667  0.66666667  0.33333333  0.33333333  0.22222222]\n",
      "data_max_ is:  [  4.   8.   7.   8.  10.]\n",
      "data_min_ is:  [ 1.  5.  1.  2.  1.]\n",
      "data_range_ is:  [ 3.  3.  6.  6.  9.]\n",
      "after transform:  \n",
      "[[ 0.          0.          0.          0.          2.        ]\n",
      " [ 0.66666667  0.66666667  0.66666667  0.          1.33333333]\n",
      " [ 1.33333333  1.33333333  1.33333333  1.33333333  0.66666667]\n",
      " [ 2.          2.          2.          2.          0.        ]]\n"
     ]
    }
   ],
   "source": [
    "#scikit-learn提供的MinMaxScaler实现了min-max标准化\n",
    "from sklearn.preprocessing import MinMaxScaler\n",
    "x = [[1,5,1,2,10],[2,6,3,2,7],[3,7,5,6,4],[4,8,7,8,1]]\n",
    "print \"before transform: \",\"\\n\",x\n",
    "scaler = MinMaxScaler(feature_range=(0,2))\n",
    "scaler.fit(x)\n",
    "print \"min_ is: \",scaler.min_\n",
    "print \"scale_ is: \",scaler.scale_\n",
    "print \"data_max_ is: \",scaler.data_max_\n",
    "print \"data_min_ is: \",scaler.data_min_\n",
    "print \"data_range_ is: \",scaler.data_range_\n",
    "print \"after transform: \",\"\\n\",scaler.transform(x)"
   ]
  },
  {
   "cell_type": "code",
   "execution_count": 1,
   "metadata": {},
   "outputs": [
    {
     "name": "stdout",
     "output_type": "stream",
     "text": [
      "Variance is [  0.      13.6875  13.6875  13.6875]:\n",
      "After transform is:  \n",
      "[[ 1  2  3]\n",
      " [ 4  5  6]\n",
      " [ 7  8  9]\n",
      " [11 12 13]]\n",
      "the support is:  [1 2 3]\n",
      "After reverse transform is:  \n",
      "[[ 0  1  2  3]\n",
      " [ 0  4  5  6]\n",
      " [ 0  7  8  9]\n",
      " [ 0 11 12 13]]\n"
     ]
    }
   ],
   "source": [
    "#方差很小的属性。意味着该属性的识别能力很差，极端情况下，方差为0，意味着还属性在所有样本上\n",
    "#的值都是一个常数，可以通过scikit--lear提供的VarianceThreshold来剔除它\n",
    "from sklearn.feature_selection import VarianceThreshold\n",
    "x = [[100,1,2,3],[100,4,5,6],[100,7,8,9],[100,11,12,13]]\n",
    "selector = VarianceThreshold(1)\n",
    "selector.fit(x)\n",
    "print \"Variance is %s:\"%selector.variances_\n",
    "print \"After transform is: \",\"\\n\",selector.transform(x)\n",
    "print \"the support is: \",selector.get_support(True)\n",
    "print \"After reverse transform is: \",\"\\n\",selector.inverse_transform(selector.transform(x))"
   ]
  },
  {
   "cell_type": "code",
   "execution_count": 5,
   "metadata": {},
   "outputs": [
    {
     "name": "stdout",
     "output_type": "stream",
     "text": [
      "before transform:  \n",
      "[[1, 2, 3, 4, 5], [6, 7, 8, 9, 10], [10, 9, 8, 7, 6], [5, 4, 3, 2, 1]]\n",
      "components is:   \n",
      "[[ -4.47213595e-01  -4.47213595e-01  -4.47213595e-01  -4.47213595e-01\n",
      "   -4.47213595e-01]\n",
      " [ -6.32455532e-01  -3.16227766e-01   4.87102124e-16   3.16227766e-01\n",
      "    6.32455532e-01]\n",
      " [ -7.25343442e-01  -1.45694305e-01  -4.02729566e-01   2.74267557e-01\n",
      "   -4.63935626e-01]]\n",
      "after tranform:  \n",
      "[[ -6.70820393   0.           0.        ]\n",
      " [-17.88854382   0.           0.        ]\n",
      " [-17.88854382   0.           0.        ]\n",
      " [ -6.70820393   0.           0.        ]]\n"
     ]
    }
   ],
   "source": [
    "#scikit-learn提供了DictionaryLearning用于字典学习\n",
    "from sklearn.decomposition import DictionaryLearning\n",
    "x = [[1,2,3,4,5],[6,7,8,9,10],[10,9,8,7,6],[5,4,3,2,1]]\n",
    "print \"before transform: \",'\\n',x\n",
    "dct = DictionaryLearning(n_components=3)\n",
    "dct.fit(x)\n",
    "print \"components is:  \",\"\\n\",dct.components_\n",
    "print \"after tranform: \", \"\\n\",dct.transform(x)"
   ]
  }
 ],
 "metadata": {
  "kernelspec": {
   "display_name": "Python 2",
   "language": "python",
   "name": "python2"
  },
  "language_info": {
   "codemirror_mode": {
    "name": "ipython",
    "version": 2
   },
   "file_extension": ".py",
   "mimetype": "text/x-python",
   "name": "python",
   "nbconvert_exporter": "python",
   "pygments_lexer": "ipython2",
   "version": "2.7.6"
  }
 },
 "nbformat": 4,
 "nbformat_minor": 2
}
