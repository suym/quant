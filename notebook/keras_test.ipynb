{
 "cells": [
  {
   "cell_type": "code",
   "execution_count": 1,
   "metadata": {
    "collapsed": false
   },
   "outputs": [
    {
     "name": "stderr",
     "output_type": "stream",
     "text": [
      "Using Theano backend.\n"
     ]
    }
   ],
   "source": [
    "from keras.models import Sequential\n",
    "from keras.layers import LSTM, Dense\n",
    "from keras.wrappers.scikit_learn import KerasClassifier,KerasRegressor\n",
    "from sklearn.model_selection import GridSearchCV,KFold,StratifiedKFold\n",
    "\n",
    "def make_reg_LSTM(nb_time_steps,data_dim):\n",
    "    model = Sequential()\n",
    "    model.add(LSTM(50, input_shape=(nb_time_steps,data_dim),init='normal',activation='relu'))\n",
    "    model.add(Dense(1,init='normal'))\n",
    "    model.compile(loss='mean_squared_error', optimizer='adam',metrics=['accuracy'])\n",
    "    return model\n",
    "                       \n",
    "def GS_reg_LSTM(*data):\n",
    "    if len(data)!=4:\n",
    "        raise NameError('Dimension of the input is not equal to 4')\n",
    "    X_train, X_test, y_train, y_test = data\n",
    "    X_dim = X_train.shape[1]\n",
    "    X_time_steps = 1\n",
    "    # reshape input to be 3D [samples, timesteps, features]\n",
    "    X_train = X_train.reshape((X_train.shape[0], X_time_steps, X_train.shape[1]))\n",
    "    X_test = X_test.reshape((X_test.shape[0], X_time_steps, X_test.shape[1]))\n",
    "                                 \n",
    "    my_lstm = KerasRegressor(build_fn=make_reg_LSTM)\n",
    "                            \n",
    "    tuned_parameters_1 = [{'nb_epoch':[30],'batch_size':[100,150],\n",
    "                          'nb_time_steps': [X_time_steps],'data_dim':[X_dim]}\n",
    "                        ]\n",
    "    C_V = KFold(n_splits=5,random_state=0)\n",
    "    clf_1 =GridSearchCV(my_lstm, tuned_parameters_1, cv =C_V, n_jobs=-1)\n",
    "    clf_1.fit(X_train,y_train)\n",
    "    best_par_1 = clf_1.best_params_\n",
    "    best_par_bs = best_par_1['batch_size']\n",
    "    \n",
    "    tuned_parameters = [{'nb_epoch':[30,50],'batch_size':[best_par_bs],\n",
    "                          'nb_time_steps': [X_time_steps],'data_dim':[X_dim]}\n",
    "                        ]\n",
    "    clf =GridSearchCV(my_lstm, tuned_parameters, cv =C_V, n_jobs=-1)\n",
    "    clf.fit(X_train,y_train)\n",
    "    print \"Best parameters set found: \",clf.best_params_\n",
    "    print \"Grid scores: \"\n",
    "    for params_1, mean_score_1, scores_1, in clf_1.grid_scores_:\n",
    "        print \"\\t%0.3f (+/-%0.03f) for %s\"%(mean_score_1, scores_1.std()*2,params_1)\n",
    "    print \"_-_-_-_-_-_-_-_-_-_-_-_-_-_-_-_-_-_-_-_-\"\n",
    "    for params, mean_score, scores, in clf.grid_scores_:\n",
    "        print \"\\t%0.3f (+/-%0.03f) for %s\"%(mean_score, scores.std()*2,params)\n",
    "    print \"optimized score: \",clf.score(X_test,y_test)\n",
    "\n",
    "    return clf.best_params_, clf.score(X_test,y_test)       "
   ]
  },
  {
   "cell_type": "code",
   "execution_count": 2,
   "metadata": {
    "collapsed": true
   },
   "outputs": [],
   "source": [
    "from DL_Package import GS_reg_LSTM\n",
    "import sys \n",
    "sys.path.append('../job')\n",
    "from DIY_data import data_from_input\n",
    "X,Y = data_from_input()"
   ]
  },
  {
   "cell_type": "code",
   "execution_count": null,
   "metadata": {
    "collapsed": false
   },
   "outputs": [
    {
     "name": "stderr",
     "output_type": "stream",
     "text": [
      "/besfs/users/suym/6.6.4.p01/Analysis/plot/python_doc/quant/analysis/machine_learing/DL_Package.py:15: UserWarning: Update your `LSTM` call to the Keras 2 API: `LSTM(50, activation=\"relu\", kernel_initializer=\"normal\", input_shape=(1, 199))`\n",
      "  model.add(LSTM(50, input_shape=(nb_time_steps,data_dim),init='normal',activation='relu'))\n",
      "/besfs/users/suym/6.6.4.p01/Analysis/plot/python_doc/quant/analysis/machine_learing/DL_Package.py:15: UserWarning: Update your `LSTM` call to the Keras 2 API: `LSTM(50, activation=\"relu\", kernel_initializer=\"normal\", input_shape=(1, 199))`\n",
      "  model.add(LSTM(50, input_shape=(nb_time_steps,data_dim),init='normal',activation='relu'))\n",
      "/besfs/users/suym/6.6.4.p01/Analysis/plot/python_doc/quant/analysis/machine_learing/DL_Package.py:15: UserWarning: Update your `LSTM` call to the Keras 2 API: `LSTM(50, activation=\"relu\", kernel_initializer=\"normal\", input_shape=(1, 199))`\n",
      "  model.add(LSTM(50, input_shape=(nb_time_steps,data_dim),init='normal',activation='relu'))\n",
      "/besfs/users/suym/6.6.4.p01/Analysis/plot/python_doc/quant/analysis/machine_learing/DL_Package.py:15: UserWarning: Update your `LSTM` call to the Keras 2 API: `LSTM(50, activation=\"relu\", kernel_initializer=\"normal\", input_shape=(1, 199))`\n",
      "  model.add(LSTM(50, input_shape=(nb_time_steps,data_dim),init='normal',activation='relu'))\n",
      "/besfs/users/suym/6.6.4.p01/Analysis/plot/python_doc/quant/analysis/machine_learing/DL_Package.py:16: UserWarning: Update your `Dense` call to the Keras 2 API: `Dense(1, kernel_initializer=\"normal\")`\n",
      "  model.add(Dense(1,init='normal'))\n",
      "/besfs/users/suym/6.6.4.p01/Analysis/plot/python_doc/quant/analysis/machine_learing/DL_Package.py:16: UserWarning: Update your `Dense` call to the Keras 2 API: `Dense(1, kernel_initializer=\"normal\")`\n",
      "  model.add(Dense(1,init='normal'))\n",
      "/besfs/users/suym/6.6.4.p01/Analysis/plot/python_doc/quant/analysis/machine_learing/DL_Package.py:16: UserWarning: Update your `Dense` call to the Keras 2 API: `Dense(1, kernel_initializer=\"normal\")`\n",
      "  model.add(Dense(1,init='normal'))\n",
      "/besfs/users/suym/6.6.4.p01/Analysis/plot/python_doc/quant/analysis/machine_learing/DL_Package.py:15: UserWarning: Update your `LSTM` call to the Keras 2 API: `LSTM(50, activation=\"relu\", kernel_initializer=\"normal\", input_shape=(1, 199))`\n",
      "  model.add(LSTM(50, input_shape=(nb_time_steps,data_dim),init='normal',activation='relu'))\n",
      "/besfs/users/suym/6.6.4.p01/Analysis/plot/python_doc/quant/analysis/machine_learing/DL_Package.py:16: UserWarning: Update your `Dense` call to the Keras 2 API: `Dense(1, kernel_initializer=\"normal\")`\n",
      "  model.add(Dense(1,init='normal'))\n",
      "/besfs/users/suym/6.6.4.p01/Analysis/plot/python_doc/quant/analysis/machine_learing/DL_Package.py:15: UserWarning: Update your `LSTM` call to the Keras 2 API: `LSTM(50, activation=\"relu\", kernel_initializer=\"normal\", input_shape=(1, 199))`\n",
      "  model.add(LSTM(50, input_shape=(nb_time_steps,data_dim),init='normal',activation='relu'))\n",
      "/besfs/users/suym/6.6.4.p01/Analysis/plot/python_doc/quant/analysis/machine_learing/DL_Package.py:16: UserWarning: Update your `Dense` call to the Keras 2 API: `Dense(1, kernel_initializer=\"normal\")`\n",
      "  model.add(Dense(1,init='normal'))\n"
     ]
    },
    {
     "name": "stdout",
     "output_type": "stream",
     "text": [
      "Epoch 1/10\n",
      "14500/54618 [======>.......................] - ETA: 3s - loss: 0.1926 - acc: 0.4804"
     ]
    },
    {
     "name": "stderr",
     "output_type": "stream",
     "text": [
      "/besfs/users/suym/6.6.4.p01/Analysis/plot/python_doc/quant/analysis/machine_learing/DL_Package.py:15: UserWarning: Update your `LSTM` call to the Keras 2 API: `LSTM(50, activation=\"relu\", kernel_initializer=\"normal\", input_shape=(1, 199))`\n",
      "  model.add(LSTM(50, input_shape=(nb_time_steps,data_dim),init='normal',activation='relu'))\n",
      "/besfs/users/suym/6.6.4.p01/Analysis/plot/python_doc/quant/analysis/machine_learing/DL_Package.py:16: UserWarning: Update your `Dense` call to the Keras 2 API: `Dense(1, kernel_initializer=\"normal\")`\n",
      "  model.add(Dense(1,init='normal'))\n"
     ]
    },
    {
     "name": "stdout",
     "output_type": "stream",
     "text": [
      "Epoch 1/10\n",
      "Epoch 1/10\n",
      " 1600/54619 [..............................] - ETA: 19s - loss: 0.2204 - acc: 0.4406Epoch 1/10\n",
      " 5300/54618 [=>............................] - ETA: 10s - loss: 0.2019 - acc: 0.4706"
     ]
    },
    {
     "name": "stderr",
     "output_type": "stream",
     "text": [
      "/besfs/users/suym/6.6.4.p01/Analysis/plot/python_doc/quant/analysis/machine_learing/DL_Package.py:15: UserWarning: Update your `LSTM` call to the Keras 2 API: `LSTM(50, activation=\"relu\", kernel_initializer=\"normal\", input_shape=(1, 199))`\n",
      "  model.add(LSTM(50, input_shape=(nb_time_steps,data_dim),init='normal',activation='relu'))\n"
     ]
    },
    {
     "name": "stdout",
     "output_type": "stream",
     "text": [
      "29700/54618 [===============>..............] - ETA: 4s - loss: 0.1878 - acc: 0.4845"
     ]
    },
    {
     "name": "stderr",
     "output_type": "stream",
     "text": [
      "/besfs/users/suym/6.6.4.p01/Analysis/plot/python_doc/quant/analysis/machine_learing/DL_Package.py:15: UserWarning: Update your `LSTM` call to the Keras 2 API: `LSTM(50, activation=\"relu\", kernel_initializer=\"normal\", input_shape=(1, 199))`\n",
      "  model.add(LSTM(50, input_shape=(nb_time_steps,data_dim),init='normal',activation='relu'))\n"
     ]
    },
    {
     "name": "stdout",
     "output_type": "stream",
     "text": [
      "Epoch 1/10\n",
      "10000/54619 [====>.........................] - ETA: 57s - loss: 0.1998 - acc: 0.4667"
     ]
    },
    {
     "name": "stderr",
     "output_type": "stream",
     "text": [
      "/besfs/users/suym/6.6.4.p01/Analysis/plot/python_doc/quant/analysis/machine_learing/DL_Package.py:15: UserWarning: Update your `LSTM` call to the Keras 2 API: `LSTM(50, activation=\"relu\", kernel_initializer=\"normal\", input_shape=(1, 199))`\n",
      "  model.add(LSTM(50, input_shape=(nb_time_steps,data_dim),init='normal',activation='relu'))\n"
     ]
    }
   ],
   "source": [
    "X_va=X.values\n",
    "Y_va=Y.values\n",
    "nums = X_va.shape[0]\n",
    "start_test = int(0.75*nums)\n",
    "                 \n",
    "X_train = X_va[0:start_test,:]\n",
    "X_test = X_va[start_test:,:]\n",
    "y_train = Y_va[0:start_test]\n",
    "y_test = Y_va[start_test:]\n",
    "    \n",
    "results = GS_reg_LSTM(X_train, X_test, y_train, y_test)"
   ]
  },
  {
   "cell_type": "code",
   "execution_count": null,
   "metadata": {
    "collapsed": true
   },
   "outputs": [],
   "source": []
  }
 ],
 "metadata": {
  "anaconda-cloud": {},
  "kernelspec": {
   "display_name": "Python [default]",
   "language": "python",
   "name": "python2"
  },
  "language_info": {
   "codemirror_mode": {
    "name": "ipython",
    "version": 2
   },
   "file_extension": ".py",
   "mimetype": "text/x-python",
   "name": "python",
   "nbconvert_exporter": "python",
   "pygments_lexer": "ipython2",
   "version": "2.7.12"
  },
  "toc": {
   "nav_menu": {},
   "number_sections": true,
   "sideBar": true,
   "skip_h1_title": false,
   "toc_cell": false,
   "toc_position": {},
   "toc_section_display": "block",
   "toc_window_display": false
  }
 },
 "nbformat": 4,
 "nbformat_minor": 1
}
