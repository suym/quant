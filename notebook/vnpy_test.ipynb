{
 "cells": [
  {
   "cell_type": "code",
   "execution_count": 1,
   "metadata": {
    "collapsed": true
   },
   "outputs": [],
   "source": [
    "# encoding: UTF-8\n",
    "\n",
    "# 重载sys模块，设置默认字符串编码方式为utf8\n",
    "import sys\n",
    "reload(sys)\n",
    "sys.setdefaultencoding('utf8')\n",
    "\n",
    "# 判断操作系统\n",
    "import platform\n",
    "system = platform.system()"
   ]
  },
  {
   "cell_type": "code",
   "execution_count": 2,
   "metadata": {
    "collapsed": true
   },
   "outputs": [],
   "source": [
    "# vn.trader模块\n",
    "from vnpy.event import EventEngine\n",
    "from vnpy.trader.vtEngine import MainEngine\n",
    "from vnpy.trader.uiQt import createQApp\n",
    "from vnpy.trader.uiMainWindow import MainWindow"
   ]
  },
  {
   "cell_type": "code",
   "execution_count": 3,
   "metadata": {
    "collapsed": false
   },
   "outputs": [
    {
     "ename": "ImportError",
     "evalue": "No module named vnctpmd",
     "output_type": "error",
     "traceback": [
      "\u001b[0;31m---------------------------------------------------------------------------\u001b[0m",
      "\u001b[0;31mImportError\u001b[0m                               Traceback (most recent call last)",
      "\u001b[0;32m<ipython-input-3-ed9eea2bb6af>\u001b[0m in \u001b[0;36m<module>\u001b[0;34m()\u001b[0m\n\u001b[1;32m      1\u001b[0m \u001b[0;31m# 加载底层接口\u001b[0m\u001b[0;34m\u001b[0m\u001b[0;34m\u001b[0m\u001b[0m\n\u001b[0;32m----> 2\u001b[0;31m from vnpy.trader.gateway import (ctpGateway, oandaGateway, ibGateway, \n\u001b[0m\u001b[1;32m      3\u001b[0m                                  tkproGateway)\n\u001b[1;32m      4\u001b[0m \u001b[0;34m\u001b[0m\u001b[0m\n\u001b[1;32m      5\u001b[0m \u001b[0;32mif\u001b[0m \u001b[0msystem\u001b[0m \u001b[0;34m==\u001b[0m \u001b[0;34m'Windows'\u001b[0m\u001b[0;34m:\u001b[0m\u001b[0;34m\u001b[0m\u001b[0m\n",
      "\u001b[0;32m/afs/ihep.ac.cn/users/s/suym/suym_local/anaconda2/lib/python2.7/site-packages/vnpy/trader/gateway/ctpGateway/__init__.py\u001b[0m in \u001b[0;36m<module>\u001b[0;34m()\u001b[0m\n\u001b[1;32m      2\u001b[0m \u001b[0;34m\u001b[0m\u001b[0m\n\u001b[1;32m      3\u001b[0m \u001b[0;32mfrom\u001b[0m \u001b[0mvnpy\u001b[0m\u001b[0;34m.\u001b[0m\u001b[0mtrader\u001b[0m \u001b[0;32mimport\u001b[0m \u001b[0mvtConstant\u001b[0m\u001b[0;34m\u001b[0m\u001b[0m\n\u001b[0;32m----> 4\u001b[0;31m \u001b[0;32mfrom\u001b[0m \u001b[0mctpGateway\u001b[0m \u001b[0;32mimport\u001b[0m \u001b[0mCtpGateway\u001b[0m\u001b[0;34m\u001b[0m\u001b[0m\n\u001b[0m\u001b[1;32m      5\u001b[0m \u001b[0;34m\u001b[0m\u001b[0m\n\u001b[1;32m      6\u001b[0m \u001b[0mgatewayClass\u001b[0m \u001b[0;34m=\u001b[0m \u001b[0mCtpGateway\u001b[0m\u001b[0;34m\u001b[0m\u001b[0m\n",
      "\u001b[0;32m/afs/ihep.ac.cn/users/s/suym/suym_local/anaconda2/lib/python2.7/site-packages/vnpy/trader/gateway/ctpGateway/ctpGateway.py\u001b[0m in \u001b[0;36m<module>\u001b[0;34m()\u001b[0m\n\u001b[1;32m     14\u001b[0m \u001b[0;32mfrom\u001b[0m \u001b[0mdatetime\u001b[0m \u001b[0;32mimport\u001b[0m \u001b[0mdatetime\u001b[0m\u001b[0;34m,\u001b[0m \u001b[0mtimedelta\u001b[0m\u001b[0;34m\u001b[0m\u001b[0m\n\u001b[1;32m     15\u001b[0m \u001b[0;34m\u001b[0m\u001b[0m\n\u001b[0;32m---> 16\u001b[0;31m \u001b[0;32mfrom\u001b[0m \u001b[0mvnpy\u001b[0m\u001b[0;34m.\u001b[0m\u001b[0mapi\u001b[0m\u001b[0;34m.\u001b[0m\u001b[0mctp\u001b[0m \u001b[0;32mimport\u001b[0m \u001b[0mMdApi\u001b[0m\u001b[0;34m,\u001b[0m \u001b[0mTdApi\u001b[0m\u001b[0;34m,\u001b[0m \u001b[0mdefineDict\u001b[0m\u001b[0;34m\u001b[0m\u001b[0m\n\u001b[0m\u001b[1;32m     17\u001b[0m \u001b[0;32mfrom\u001b[0m \u001b[0mvnpy\u001b[0m\u001b[0;34m.\u001b[0m\u001b[0mtrader\u001b[0m\u001b[0;34m.\u001b[0m\u001b[0mvtGateway\u001b[0m \u001b[0;32mimport\u001b[0m \u001b[0;34m*\u001b[0m\u001b[0;34m\u001b[0m\u001b[0m\n\u001b[1;32m     18\u001b[0m \u001b[0;32mfrom\u001b[0m \u001b[0mvnpy\u001b[0m\u001b[0;34m.\u001b[0m\u001b[0mtrader\u001b[0m\u001b[0;34m.\u001b[0m\u001b[0mvtFunction\u001b[0m \u001b[0;32mimport\u001b[0m \u001b[0mgetJsonPath\u001b[0m\u001b[0;34m,\u001b[0m \u001b[0mgetTempPath\u001b[0m\u001b[0;34m\u001b[0m\u001b[0m\n",
      "\u001b[0;32m/afs/ihep.ac.cn/users/s/suym/suym_local/anaconda2/lib/python2.7/site-packages/vnpy/api/ctp/__init__.py\u001b[0m in \u001b[0;36m<module>\u001b[0;34m()\u001b[0m\n\u001b[1;32m      1\u001b[0m \u001b[0;31m# encoding: UTF-8\u001b[0m\u001b[0;34m\u001b[0m\u001b[0;34m\u001b[0m\u001b[0m\n\u001b[1;32m      2\u001b[0m \u001b[0;34m\u001b[0m\u001b[0m\n\u001b[0;32m----> 3\u001b[0;31m \u001b[0;32mfrom\u001b[0m \u001b[0mvnctpmd\u001b[0m \u001b[0;32mimport\u001b[0m \u001b[0mMdApi\u001b[0m\u001b[0;34m\u001b[0m\u001b[0m\n\u001b[0m\u001b[1;32m      4\u001b[0m \u001b[0;32mfrom\u001b[0m \u001b[0mvnctptd\u001b[0m \u001b[0;32mimport\u001b[0m \u001b[0mTdApi\u001b[0m\u001b[0;34m\u001b[0m\u001b[0m\n\u001b[1;32m      5\u001b[0m \u001b[0;32mfrom\u001b[0m \u001b[0mctp_data_type\u001b[0m \u001b[0;32mimport\u001b[0m \u001b[0mdefineDict\u001b[0m\u001b[0;34m\u001b[0m\u001b[0m\n",
      "\u001b[0;31mImportError\u001b[0m: No module named vnctpmd"
     ]
    }
   ],
   "source": [
    "# 加载底层接口\n",
    "from vnpy.trader.gateway import (ctpGateway, oandaGateway, ibGateway, \n",
    "                                 tkproGateway)\n",
    "\n",
    "if system == 'Windows':\n",
    "    from vnpy.trader.gateway import (femasGateway, xspeedGateway, \n",
    "                                     futuGateway, secGateway)\n",
    "    \n",
    "if system == 'Linux':\n",
    "    from vnpy.trader.gateway import xtpGateway\n",
    "\n",
    "# 加载上层应用\n",
    "from vnpy.trader.app import (riskManager, ctaStrategy, spreadTrading)\n"
   ]
  },
  {
   "cell_type": "code",
   "execution_count": null,
   "metadata": {
    "collapsed": true
   },
   "outputs": [],
   "source": []
  }
 ],
 "metadata": {
  "kernelspec": {
   "display_name": "Python [default]",
   "language": "python",
   "name": "python2"
  },
  "language_info": {
   "codemirror_mode": {
    "name": "ipython",
    "version": 2
   },
   "file_extension": ".py",
   "mimetype": "text/x-python",
   "name": "python",
   "nbconvert_exporter": "python",
   "pygments_lexer": "ipython2",
   "version": "2.7.12"
  },
  "toc": {
   "nav_menu": {},
   "number_sections": true,
   "sideBar": true,
   "skip_h1_title": false,
   "toc_cell": false,
   "toc_position": {},
   "toc_section_display": "block",
   "toc_window_display": false
  }
 },
 "nbformat": 4,
 "nbformat_minor": 1
}
