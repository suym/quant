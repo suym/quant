{
 "cells": [
  {
   "cell_type": "code",
   "execution_count": 2,
   "metadata": {
    "collapsed": false
   },
   "outputs": [],
   "source": [
    "from rqalpha import run_code\n",
    "\n",
    "code = \"\"\"\n",
    "from rqalpha.api import *\n",
    "\n",
    "\n",
    "def init(context):\n",
    "    logger.info(\"init\")\n",
    "    context.s1 = \"000001.XSHE\"\n",
    "    update_universe(context.s1)\n",
    "    context.fired = False\n",
    "\n",
    "\n",
    "def before_trading(context):\n",
    "    pass\n",
    "\n",
    "\n",
    "def handle_bar(context, bar_dict):\n",
    "    if not context.fired:\n",
    "        # order_percent并且传入1代表买入该股票并且使其占有投资组合的100%\n",
    "        order_percent(context.s1, 1)\n",
    "        context.fired = True\n",
    "\"\"\"\n",
    "\n",
    "config = {\n",
    "  \"base\": {\n",
    "    \"data_bundle_path\":\"/besfs/users/suym/6.6.4.p01/Analysis/plot/python_doc/quant/rqalpha/bundle\",\n",
    "    \"start_date\": \"2016-06-01\",\n",
    "    \"end_date\": \"2016-12-01\",\n",
    "    \"benchmark\": \"000300.XSHG\",\n",
    "    \"accounts\": {\n",
    "        \"stock\": 100000\n",
    "    }\n",
    "  },\n",
    "  \"extra\": {\n",
    "    \"log_level\": \"verbose\",\n",
    "  },\n",
    "  \"mod\": {\n",
    "    \"sys_analyser\": {\n",
    "      \"enabled\": True,\n",
    "      \"plot\": False\n",
    "    }\n",
    "  }\n",
    "}\n"
   ]
  },
  {
   "cell_type": "code",
   "execution_count": null,
   "metadata": {
    "collapsed": false
   },
   "outputs": [],
   "source": [
    "run_code(code, config)"
   ]
  },
  {
   "cell_type": "code",
   "execution_count": null,
   "metadata": {
    "collapsed": true
   },
   "outputs": [],
   "source": []
  },
  {
   "cell_type": "code",
   "execution_count": null,
   "metadata": {
    "collapsed": true
   },
   "outputs": [],
   "source": []
  }
 ],
 "metadata": {
  "anaconda-cloud": {},
  "kernelspec": {
   "display_name": "Python [default]",
   "language": "python",
   "name": "python2"
  },
  "language_info": {
   "codemirror_mode": {
    "name": "ipython",
    "version": 2
   },
   "file_extension": ".py",
   "mimetype": "text/x-python",
   "name": "python",
   "nbconvert_exporter": "python",
   "pygments_lexer": "ipython2",
   "version": "2.7.12"
  },
  "toc": {
   "nav_menu": {},
   "number_sections": true,
   "sideBar": true,
   "skip_h1_title": false,
   "toc_cell": false,
   "toc_position": {},
   "toc_section_display": "block",
   "toc_window_display": false
  }
 },
 "nbformat": 4,
 "nbformat_minor": 1
}
