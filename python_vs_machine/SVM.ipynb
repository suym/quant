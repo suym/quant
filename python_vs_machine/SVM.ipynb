{
 "cells": [
  {
   "cell_type": "code",
   "execution_count": 3,
   "metadata": {},
   "outputs": [
    {
     "name": "stderr",
     "output_type": "stream",
     "text": [
      "/usr/local/lib/python2.7/dist-packages/sklearn/cross_validation.py:44: DeprecationWarning: This module was deprecated in version 0.18 in favor of the model_selection module into which all the refactored classes and functions are moved. Also note that the interface of the new CV iterators are different from that of this module. This module will be removed in 0.20.\n",
      "  \"This module will be removed in 0.20.\", DeprecationWarning)\n"
     ]
    }
   ],
   "source": [
    "#支持向量机本质上非线性方法，在样本比较少的时候，容易抓住数据和特征之间的非线性关系，但是svm对缺失数据敏感。\n",
    "import matplotlib.pyplot as plt\n",
    "import numpy as np\n",
    "from sklearn import datasets, linear_model, cross_validation, svm\n",
    "%matplotlib inline"
   ]
  },
  {
   "cell_type": "code",
   "execution_count": 4,
   "metadata": {},
   "outputs": [],
   "source": [
    "#在支持向量回归问题上，使用的数据集是scikit-learn自带的一个糖尿病病人的数据集。\n",
    "def load_data_regression():\n",
    "    diabetes = datasets.load_diabetes()\n",
    "    return cross_validation.train_test_split(diabetes.data, diabetes.target, test_size = 0.25, random_state = 0)"
   ]
  },
  {
   "cell_type": "code",
   "execution_count": 5,
   "metadata": {},
   "outputs": [],
   "source": [
    "#在支持向量分类问题中，使用尾花数据集\n",
    "def load_data_classfication():\n",
    "    iris = datasets.load_iris()\n",
    "    return cross_validation.train_test_split(iris.data, iris.target, test_size = 0.25, random_state = 0, stratify =iris.target)\n",
    "#采用分层抽样"
   ]
  },
  {
   "cell_type": "code",
   "execution_count": 7,
   "metadata": {},
   "outputs": [],
   "source": [
    "#linearSVC实现了线性分类支持向量机。它是根据liblinear实现的，可以用于二分类和多分类\n",
    "def test_LinearSVC(*data):\n",
    "    x_train, x_test, y_train, y_test = data \n",
    "    cls = svm.LinearSVC()\n",
    "    cls.fit(x_train, y_train)\n",
    "    print(\"coeffiicients:  %s, intercept: %s\"%(cls.coef_, cls.intercept_))\n",
    "    print(\"Score: %.2f\"%cls.score(x_test, y_test))"
   ]
  },
  {
   "cell_type": "code",
   "execution_count": 8,
   "metadata": {},
   "outputs": [
    {
     "name": "stdout",
     "output_type": "stream",
     "text": [
      "coeffiicients:  [[ 0.20959956  0.39924115 -0.81738776 -0.44231676]\n",
      " [-0.12795472 -0.78671947  0.51951937 -1.02158065]\n",
      " [-0.80314044 -0.87610972  1.21377552  1.81001377]], intercept: [ 0.11973915  2.0402536  -1.44407321]\n",
      "Score: 0.97\n"
     ]
    }
   ],
   "source": [
    "#调用test_LinearSVC函数\n",
    "x_train, x_test, y_train, y_test = load_data_classfication()\n",
    "test_LinearSVC(x_train, x_test, y_train, y_test )"
   ]
  },
  {
   "cell_type": "code",
   "execution_count": 13,
   "metadata": {},
   "outputs": [],
   "source": [
    "#考察损失函数的影响\n",
    "def test_LinearSVC_loss(*data):\n",
    "    x_train, x_test, y_train, y_test = data\n",
    "    losses = [\"hinge\",\"squared_hinge\"]\n",
    "    for loss in losses:\n",
    "        cls = svm.LinearSVC(loss = loss)\n",
    "        cls.fit(x_train,y_train)\n",
    "        print(\"Loss: %s\" %loss)\n",
    "        print(\"coeffiicients:  %s, intercept: %s\"%(cls.coef_, cls.intercept_))\n",
    "        print(\"Score: %.2f\"%cls.score(x_test, y_test))    "
   ]
  },
  {
   "cell_type": "code",
   "execution_count": 14,
   "metadata": {},
   "outputs": [
    {
     "name": "stdout",
     "output_type": "stream",
     "text": [
      "Loss: hinge\n",
      "coeffiicients:  [[ 0.36637159  0.32164342 -1.07533866 -0.57004745]\n",
      " [ 0.47354043 -1.56073802  0.39701651 -1.34439385]\n",
      " [-1.21547312 -1.15184389  1.84982658  1.98122214]], intercept: [ 0.18050249  1.33771718 -1.43210261]\n",
      "Score: 0.97\n",
      "Loss: squared_hinge\n",
      "coeffiicients:  [[ 0.20959093  0.39924135 -0.81738846 -0.44231903]\n",
      " [-0.12762616 -0.7861266   0.51903873 -1.02159412]\n",
      " [-0.80307199 -0.87610642  1.21370857  1.81012882]], intercept: [ 0.11973718  2.03882416 -1.44412358]\n",
      "Score: 0.97\n"
     ]
    }
   ],
   "source": [
    "test_LinearSVC_loss(x_train, x_test, y_train, y_test )"
   ]
  },
  {
   "cell_type": "code",
   "execution_count": 17,
   "metadata": {},
   "outputs": [],
   "source": [
    "#考察惩罚项形式的影响\n",
    "def test_LinearSVC_L12(*data):\n",
    "    x_train, x_test, y_train, y_test = data\n",
    "    l12 = [\"l1\",\"l2\"]\n",
    "    for p in l12:\n",
    "        cls = svm.LinearSVC(penalty=p, dual=False)\n",
    "        cls.fit(x_train,y_train)\n",
    "        print(\"penalty: %s\" %p)\n",
    "        print(\"coeffiicients:  %s, intercept: %s\"%(cls.coef_, cls.intercept_))\n",
    "        print(\"Score: %.2f\"%cls.score(x_test, y_test))   "
   ]
  },
  {
   "cell_type": "code",
   "execution_count": 19,
   "metadata": {},
   "outputs": [
    {
     "name": "stdout",
     "output_type": "stream",
     "text": [
      "penalty: l1\n",
      "coeffiicients:  [[ 0.16581773  0.51921647 -0.93430136  0.        ]\n",
      " [-0.15239546 -0.90880439  0.48194667 -0.93293144]\n",
      " [-0.55363404 -0.85338276  0.94656741  2.34114832]], intercept: [ 0.          2.58388684 -2.63376264]\n",
      "Score: 0.95\n",
      "penalty: l2\n",
      "coeffiicients:  [[ 0.20966721  0.39922563 -0.81739423 -0.44237657]\n",
      " [-0.13079574 -0.7872181   0.52298032 -1.02445961]\n",
      " [-0.80308922 -0.87656106  1.21391169  1.81021937]], intercept: [ 0.11945388  2.04805235 -1.44409296]\n",
      "Score: 0.97\n"
     ]
    }
   ],
   "source": [
    "test_LinearSVC_L12(x_train, x_test, y_train, y_test)"
   ]
  },
  {
   "cell_type": "code",
   "execution_count": 20,
   "metadata": {},
   "outputs": [],
   "source": [
    "#考察惩罚项系数c的影响，c衡量了误分类点的重要性，c越大则误分类点越重要。\n",
    "def test_LinearSVC_C(*data):\n",
    "    x_train, x_test, y_train, y_test = data\n",
    "    cs = np.logspace(-2, 1)\n",
    "    train_score = []\n",
    "    test_score = []\n",
    "    for c in cs:\n",
    "        cls = svm.LinearSVC(C=c)\n",
    "        cls.fit(x_train,y_train)\n",
    "        train_score.append(cls.score(x_train, y_train))\n",
    "        test_score.append(cls.score(x_test, y_test))\n",
    "#绘图\n",
    "    fig = plt.figure()\n",
    "    ax = fig.add_subplot(1,1,1)\n",
    "    ax.plot(cs, train_score, label = \"train score\")\n",
    "    ax.plot(cs, test_score, label = \"tset score\")\n",
    "    ax.set_xlabel(r\"C\")\n",
    "    ax.set_ylabel(r\"score\")\n",
    "    ax.set_xscale(\"log\")\n",
    "    ax.set_title(\"LinearSVC\")\n",
    "    ax.legend(loc = \"best\")\n",
    "    plt.show()"
   ]
  },
  {
   "cell_type": "code",
   "execution_count": 24,
   "metadata": {},
   "outputs": [
    {
     "data": {
      "image/png": "[encoded data removed]",
      "text/plain": [
       "<matplotlib.figure.Figure at 0x7ff98d78e390>"
      ]
     },
     "metadata": {},
     "output_type": "display_data"
    }
   ],
   "source": [
    "test_LinearSVC_C(x_train, x_test, y_train, y_test)"
   ]
  },
  {
   "cell_type": "code",
   "execution_count": 25,
   "metadata": {},
   "outputs": [],
   "source": [
    "#SVC实现了非线性分类支持向量机，它是根据libsvm实现的，可以用于二分类和多分类\n",
    "def test_SVC_linear(*data):\n",
    "    x_train, x_test, y_train, y_test = data \n",
    "    cls = svm.SVC(kernel=\"linear\")\n",
    "    cls.fit(x_train, y_train)\n",
    "    print(\"coeffiicients:  %s, intercept: %s\"%(cls.coef_, cls.intercept_))\n",
    "    print(\"Score: %.2f\"%cls.score(x_test, y_test))"
   ]
  },
  {
   "cell_type": "code",
   "execution_count": 26,
   "metadata": {},
   "outputs": [
    {
     "name": "stdout",
     "output_type": "stream",
     "text": [
      "coeffiicients:  [[-0.16990304  0.47442881 -0.93075307 -0.51249447]\n",
      " [ 0.02439178  0.21890135 -0.52833486 -0.25913786]\n",
      " [ 0.52289771  0.95783924 -1.82516872 -2.00292778]], intercept: [ 2.0368826  1.1512924  6.3276538]\n",
      "Score: 1.00\n"
     ]
    }
   ],
   "source": [
    "test_SVC_linear(x_train, x_test, y_train, y_test)"
   ]
  },
  {
   "cell_type": "code",
   "execution_count": 31,
   "metadata": {},
   "outputs": [],
   "source": [
    "#考察多项式核\n",
    "def test_SVC_poly(*data):\n",
    "    x_train, x_test, y_train, y_test = data\n",
    "    fig = plt.figure()\n",
    "    #测试degree\n",
    "    degrees = range(1,20)\n",
    "    train_score = []\n",
    "    test_score =[]\n",
    "    for degree in degrees:\n",
    "        cls = svm.SVC(kernel=\"poly\", degree = degree)\n",
    "        cls.fit(x_train,y_train)\n",
    "        train_score.append(cls.score(x_train, y_train))\n",
    "        test_score.append(cls.score(x_test, y_test))\n",
    "    ax = fig.add_subplot(1, 3, 1)\n",
    "    ax.plot(degrees, train_score, label = \"train score\", marker = \"+\")\n",
    "    ax.plot(degrees, test_score, label = \"test score\", marker = \"o\")\n",
    "    ax.set_title(\"SVC_poly_degree\")\n",
    "    ax.set_xlabel(\"p\")\n",
    "    ax.set_ylabel(\"score\")\n",
    "    ax.set_ylim(0, 1.05)\n",
    "    ax.legend(loc = \"best\")\n",
    "    #测试gamma\n",
    "    gammas = range(1,20)\n",
    "    train_score = []\n",
    "    test_score =[]\n",
    "    for gamma in gammas:\n",
    "        cls = svm.SVC(kernel = \"poly\", gamma = gamma, degree = 3)\n",
    "        cls.fit(x_train, y_train)\n",
    "        train_score.append(cls.score(x_train,y_train))\n",
    "        test_score.append(cls.score(x_test, y_test))\n",
    "    ax = fig.add_subplot(1, 3, 2)\n",
    "    ax.plot(gammas, train_score, label = \"train score\", marker = \"+\")\n",
    "    ax.plot(gammas, test_score, label = \"test score\", marker = \"o\")\n",
    "    ax.set_title(\"SVC_poly_gamma\")\n",
    "    ax.set_xlabel(r\"$\\gamma$\")\n",
    "    ax.set_ylabel(\"score\")\n",
    "    ax.set_ylim(0, 1.05)\n",
    "    ax.legend(loc = \"best\")\n",
    "    #测试r\n",
    "    rs = range(0,20)\n",
    "    train_score = []\n",
    "    test_score =[]\n",
    "    for r in rs:\n",
    "        cls = svm.SVC(kernel = \"poly\", gamma = 10, degree = 3, coef0=r)\n",
    "        cls.fit(x_train, y_train)\n",
    "        train_score.append(cls.score(x_train,y_train))\n",
    "        test_score.append(cls.score(x_test, y_test))\n",
    "    ax = fig.add_subplot(1, 3, 3)\n",
    "    ax.plot(rs, train_score, label = \"train score\", marker = \"+\")\n",
    "    ax.plot(rs, test_score, label = \"test score\", marker = \"o\")\n",
    "    ax.set_title(\"SVC_poly_r\")\n",
    "    ax.set_xlabel(r\"r\")\n",
    "    ax.set_ylabel(\"score\")\n",
    "    ax.set_ylim(0, 1.05)\n",
    "    ax.legend(loc = \"best\")\n",
    "    plt.show()"
   ]
  },
  {
   "cell_type": "code",
   "execution_count": 32,
   "metadata": {},
   "outputs": [
    {
     "data": {
      "image/png": "[encoded data removed]",
      "text/plain": [
       "<matplotlib.figure.Figure at 0x7ff95b8b8c10>"
      ]
     },
     "metadata": {},
     "output_type": "display_data"
    }
   ],
   "source": [
    "test_SVC_poly(x_train, x_test, y_train, y_test)\n",
    "#可以看到在预测集上的预测性能随gamma的变化较为平稳"
   ]
  },
  {
   "cell_type": "code",
   "execution_count": 1,
   "metadata": {},
   "outputs": [],
   "source": [
    "#考察高斯核\n",
    "def test_SVC_rbf(*data):\n",
    "    x_train, x_test, y_train, y_test = data\n",
    "    gammas = range(1,20)\n",
    "    train_score = []\n",
    "    test_score = []\n",
    "    for gamma in gammas:\n",
    "        cls = svm.SVC(kernel = 'rbf', gamma = gamma)\n",
    "        cls.fit(x_train,y_train)\n",
    "        train_score.append(cls.score(x_train, y_train))\n",
    "        test_score.append(cls.score(x_test, y_test))\n",
    "#绘图\n",
    "    fig = plt.figure()\n",
    "    ax = fig.add_subplot(1,1,1)\n",
    "    ax.plot(gammas, train_score, label = \"train score\")\n",
    "    ax.plot(gammas, test_score, label = \"tset score\")\n",
    "    ax.set_xlabel(r\"$\\gamma$\")\n",
    "    ax.set_ylabel(r\"score\")\n",
    "    ax.set_ylim(0,1.05)\n",
    "    ax.set_title(\"SVC_rbf\")\n",
    "    ax.legend(loc = \"best\")\n",
    "    plt.show()"
   ]
  },
  {
   "cell_type": "code",
   "execution_count": 10,
   "metadata": {},
   "outputs": [
    {
     "data": {
      "image/png": "[encoded data removed]",
      "text/plain": [
       "<matplotlib.figure.Figure at 0x7f3077585590>"
      ]
     },
     "metadata": {},
     "output_type": "display_data"
    }
   ],
   "source": [
    "test_SVC_rbf(x_train, x_test, y_train, y_test)"
   ]
  }
 ],
 "metadata": {
  "kernelspec": {
   "display_name": "Python 2",
   "language": "python",
   "name": "python2"
  },
  "language_info": {
   "codemirror_mode": {
    "name": "ipython",
    "version": 2
   },
   "file_extension": ".py",
   "mimetype": "text/x-python",
   "name": "python",
   "nbconvert_exporter": "python",
   "pygments_lexer": "ipython2",
   "version": "2.7.6"
  }
 },
 "nbformat": 4,
 "nbformat_minor": 2
}
