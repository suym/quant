{
 "cells": [
  {
   "cell_type": "code",
   "execution_count": 46,
   "metadata": {
    "collapsed": false
   },
   "outputs": [
    {
     "name": "stdout",
     "output_type": "stream",
     "text": [
      "zero_one_loss <function>:  0.6\n",
      "zero_one_loss <num>:  6\n"
     ]
    }
   ],
   "source": [
    "#0-1损失函数，scikit-learn提供了zero-one-loss函数来实现0-1损失函数。\n",
    "from sklearn.metrics import zero_one_loss\n",
    "%matplotlib inline\n",
    "y_ture = [1,1,1,1,1,0,0,0,0,0]\n",
    "y_pred = [0,0,0,1,1,1,1,1,0,0]\n",
    "print \"zero_one_loss <function>: \",zero_one_loss(y_ture, y_pred,normalize = True)\n",
    "print \"zero_one_loss <num>: \",zero_one_loss(y_ture, y_pred, normalize = False)"
   ]
  },
  {
   "cell_type": "code",
   "execution_count": 13,
   "metadata": {
    "collapsed": false
   },
   "outputs": [
    {
     "name": "stdout",
     "output_type": "stream",
     "text": [
      "log_loss<average>:  0.228393003637\n",
      "log_loss<tatal>:  1.37035802182\n"
     ]
    }
   ],
   "source": [
    "#scikit-learn提供了log_loss函数来实现对数损失函数\n",
    "from sklearn.metrics import log_loss\n",
    "y_ture = [1,1,1,0,0,0]\n",
    "y_pred = [[0.1,0.9],[0.2,0.8],[0.3,0.7],[0.7,0.3],[0.8,0.2],[0.9,0.1]]\n",
    "print \"log_loss<average>: \",log_loss(y_ture,y_pred,normalize = True)\n",
    "print \"log_loss<tatal>: \",log_loss(y_ture,y_pred,normalize = False)"
   ]
  },
  {
   "cell_type": "code",
   "execution_count": 21,
   "metadata": {
    "collapsed": false
   },
   "outputs": [
    {
     "name": "stdout",
     "output_type": "stream",
     "text": [
      "x_train : [[31, 32, 33, 34], [1, 2, 3, 4], [51, 52, 53, 54], [41, 42, 43, 44]]\n",
      "x_test : [[61, 62, 63, 64], [21, 22, 23, 24], [11, 12, 13, 14], [71, 72, 73, 74]]\n",
      "y_train : [0, 1, 1, 1]\n",
      "y_test : [0, 0, 1, 0]\n",
      "x_train : [[41, 42, 43, 44], [61, 62, 63, 64], [1, 2, 3, 4], [71, 72, 73, 74]]\n",
      "x_test : [[21, 22, 23, 24], [31, 32, 33, 34], [11, 12, 13, 14], [51, 52, 53, 54]]\n",
      "y_train : [1, 0, 1, 0]\n",
      "y_test : [0, 0, 1, 1]\n"
     ]
    }
   ],
   "source": [
    "#数据集切分\n",
    "#scikit-leran提供的train_test_split函数能够将数据集切分成训练集和测试集两类。\n",
    "from sklearn.model_selection import train_test_split\n",
    "x = [[1,2,3,4],[11,12,13,14],[21,22,23,24],[31,32,33,34],[41,42,43,44],[51,52,53,54],[61,62,63,64],[71,72,73,74]]\n",
    "y=[1,1,0,0,1,1,0,0]\n",
    "x_train, x_test, y_train, y_test = train_test_split(x,y, test_size = 0.4, random_state = 0)\n",
    "print\"x_train :\",x_train\n",
    "print\"x_test :\",x_test\n",
    "print\"y_train :\",y_train\n",
    "print\"y_test :\",y_test\n",
    "x_train, x_test, y_train, y_test = train_test_split(x,y, test_size = 0.4, random_state = 0, stratify = y)\n",
    "print\"x_train :\",x_train\n",
    "print\"x_test :\",x_test\n",
    "print\"y_train :\",y_train\n",
    "print\"y_test :\",y_test"
   ]
  },
  {
   "cell_type": "code",
   "execution_count": 30,
   "metadata": {
    "collapsed": false
   },
   "outputs": [
    {
     "name": "stdout",
     "output_type": "stream",
     "text": [
      "train index:  [3 4 5 6 7 8]\n",
      "test index:  [0 1 2]\n",
      "x_train:  \n",
      "[[31 32 33 34]\n",
      " [41 42 43 44]\n",
      " [51 52 53 54]\n",
      " [61 62 63 64]\n",
      " [71 72 73 74]\n",
      " [81 82 83 84]]\n",
      "x_test:  \n",
      "[[ 1  2  3  4]\n",
      " [11 12 13 14]\n",
      " [21 22 23 24]]\n",
      "\n",
      "train index:  [0 1 2 6 7 8]\n",
      "test index:  [3 4 5]\n",
      "x_train:  \n",
      "[[ 1  2  3  4]\n",
      " [11 12 13 14]\n",
      " [21 22 23 24]\n",
      " [61 62 63 64]\n",
      " [71 72 73 74]\n",
      " [81 82 83 84]]\n",
      "x_test:  \n",
      "[[31 32 33 34]\n",
      " [41 42 43 44]\n",
      " [51 52 53 54]]\n",
      "\n",
      "train index:  [0 1 2 3 4 5]\n",
      "test index:  [6 7 8]\n",
      "x_train:  \n",
      "[[ 1  2  3  4]\n",
      " [11 12 13 14]\n",
      " [21 22 23 24]\n",
      " [31 32 33 34]\n",
      " [41 42 43 44]\n",
      " [51 52 53 54]]\n",
      "x_test:  \n",
      "[[61 62 63 64]\n",
      " [71 72 73 74]\n",
      " [81 82 83 84]]\n",
      "\n",
      "shuffled train index:  [0 3 4 5 6 8]\n",
      "shuffled test index:  [1 2 7]\n",
      "shuffled x_train:  \n",
      "[[ 1  2  3  4]\n",
      " [31 32 33 34]\n",
      " [41 42 43 44]\n",
      " [51 52 53 54]\n",
      " [61 62 63 64]\n",
      " [81 82 83 84]]\n",
      "shuffled x_test:  \n",
      "[[11 12 13 14]\n",
      " [21 22 23 24]\n",
      " [71 72 73 74]]\n",
      "\n",
      "shuffled train index:  [0 1 2 3 5 7]\n",
      "shuffled test index:  [4 6 8]\n",
      "shuffled x_train:  \n",
      "[[ 1  2  3  4]\n",
      " [11 12 13 14]\n",
      " [21 22 23 24]\n",
      " [31 32 33 34]\n",
      " [51 52 53 54]\n",
      " [71 72 73 74]]\n",
      "shuffled x_test:  \n",
      "[[41 42 43 44]\n",
      " [61 62 63 64]\n",
      " [81 82 83 84]]\n",
      "\n",
      "shuffled train index:  [1 2 4 6 7 8]\n",
      "shuffled test index:  [0 3 5]\n",
      "shuffled x_train:  \n",
      "[[11 12 13 14]\n",
      " [21 22 23 24]\n",
      " [41 42 43 44]\n",
      " [61 62 63 64]\n",
      " [71 72 73 74]\n",
      " [81 82 83 84]]\n",
      "shuffled x_test:  \n",
      "[[ 1  2  3  4]\n",
      " [31 32 33 34]\n",
      " [51 52 53 54]]\n",
      "\n"
     ]
    }
   ],
   "source": [
    "#scikit-learn提供的KFold类实现了数据集的k折交叉切分，它是一个生成器\n",
    "from sklearn.model_selection import KFold\n",
    "import numpy as np\n",
    "x = np.array([[1,2,3,4],[11,12,13,14],[21,22,23,24],[31,32,33,34],[41,42,43,44],[51,52,53,54],[61,62,63,64],[71,72,73,74],[81,82,83,84]])\n",
    "y=np.array([1,1,0,0,1,1,0,0,1])\n",
    "folder = KFold(n_splits = 3, random_state = 0, shuffle = False)\n",
    "for train_index, test_index in folder.split(x,y):\n",
    "    print \"train index: \",train_index\n",
    "    print \"test index: \",test_index\n",
    "    print \"x_train: \",\"\\n\",x[train_index]\n",
    "    print \"x_test: \",'\\n',x[test_index]\n",
    "    print \"\"\n",
    "shuffle_folder = KFold(n_splits = 3, random_state = 0, shuffle = True)\n",
    "for train_index, test_index in shuffle_folder.split(x,y):\n",
    "    print \"shuffled train index: \",train_index\n",
    "    print \"shuffled test index: \",test_index\n",
    "    print \"shuffled x_train: \",'\\n',x[train_index]\n",
    "    print \"shuffled x_test: \",\"\\n\",x[test_index]\n",
    "    print \"\""
   ]
  },
  {
   "cell_type": "code",
   "execution_count": 33,
   "metadata": {
    "collapsed": false
   },
   "outputs": [
    {
     "name": "stdout",
     "output_type": "stream",
     "text": [
      "cross val score is : \n",
      "[ 0.9027027   0.94535519  0.86740331  0.89444444  0.93854749  0.94413408\n",
      "  0.97206704  0.9494382   0.85310734  0.91477273]\n"
     ]
    }
   ],
   "source": [
    "#scikit-learn提供了一个便利函数cross-val-score,它是在指定数据集上运行指定学习器时，通过k折交叉获取的最佳性能。\n",
    "from sklearn.model_selection import cross_val_score\n",
    "from sklearn.datasets import load_digits\n",
    "from sklearn.svm import LinearSVC\n",
    "\n",
    "digits = load_digits()\n",
    "x = digits.data\n",
    "y = digits.target\n",
    "result = cross_val_score(LinearSVC(),x,y,cv = 10)\n",
    "print \"cross val score is :\",'\\n',result"
   ]
  },
  {
   "cell_type": "code",
   "execution_count": 35,
   "metadata": {
    "collapsed": false
   },
   "outputs": [
    {
     "name": "stdout",
     "output_type": "stream",
     "text": [
      "accuracy score(normalize = True):  0.5\n",
      "accuracy score(normalize = False):  5\n"
     ]
    }
   ],
   "source": [
    "#性能度量\n",
    "#通过scikit-learn提供的accuracy-score函数用于计算分类结果的准确性\n",
    "from sklearn.metrics import accuracy_score\n",
    "y_true = [1,1,1,1,1,0,0,0,0,0]\n",
    "y_pred = [0,0,1,1,0,0,1,1,0,0]\n",
    "print \"accuracy score(normalize = True): \",accuracy_score(y_true,y_pred,normalize = True)\n",
    "print \"accuracy score(normalize = False): \",accuracy_score(y_true,y_pred,normalize = False)"
   ]
  },
  {
   "cell_type": "code",
   "execution_count": 37,
   "metadata": {
    "collapsed": false
   },
   "outputs": [
    {
     "name": "stdout",
     "output_type": "stream",
     "text": [
      "classification report: \n",
      "             precision    recall  f1-score   support\n",
      "\n",
      "    class_0       0.62      1.00      0.77         5\n",
      "    class_1       1.00      0.40      0.57         5\n",
      "\n",
      "avg / total       0.81      0.70      0.67        10\n",
      "\n"
     ]
    }
   ],
   "source": [
    "#scikit-learn提供的classification_report函数以文本方式给出了分类结果的主要预测性能指标\n",
    "from sklearn.metrics import classification_report\n",
    "y_true = [1,1,1,1,1,0,0,0,0,0]\n",
    "y_pred = [0,0,1,1,0,0,0,0,0,0]\n",
    "print \"classification report: \\n\",classification_report(y_true,y_pred,target_names = ['class_0','class_1'])"
   ]
  },
  {
   "cell_type": "code",
   "execution_count": 47,
   "metadata": {
    "collapsed": false
   },
   "outputs": [
    {
     "data": {
      "image/png": "[encoded data removed]",
      "text/plain": [
       "<matplotlib.figure.Figure at 0x7f4288174150>"
      ]
     },
     "metadata": {},
     "output_type": "display_data"
    }
   ],
   "source": [
    "#scikit-learn提供的precision_recall_curve函数用于计算分类结果的P-R曲线\n",
    "from sklearn.metrics import precision_recall_curve\n",
    "from sklearn.datasets import load_iris\n",
    "from sklearn.multiclass import OneVsRestClassifier\n",
    "from sklearn.svm import SVC\n",
    "from sklearn.model_selection import train_test_split\n",
    "import matplotlib.pyplot as plt\n",
    "from sklearn.preprocessing import label_binarize\n",
    "import numpy as np\n",
    "# 加载数据\n",
    "iris = load_iris()\n",
    "x = iris.data\n",
    "y = iris.target\n",
    "#二元化标记\n",
    "y = label_binarize(y, classes = [0,1,2])\n",
    "n_classes = y.shape[1]\n",
    "#添加噪声\n",
    "np.random.seed(0)\n",
    "n_samples, n_features = x.shape\n",
    "x = np.c_[x, np.random.randn(n_samples, 200*n_features)]\n",
    "x_train, x_test, y_train, y_test = train_test_split(x,y,test_size = 0.5, random_state = 0)\n",
    "#训练模型\n",
    "clf = OneVsRestClassifier(SVC(kernel = 'linear', probability = True, random_state = 0))\n",
    "clf.fit(x_train, y_train)\n",
    "y_score = clf.fit(x_train, y_train).decision_function(x_test)\n",
    "#获取P-R\n",
    "fig = plt.figure()\n",
    "ax = fig.add_subplot(1,1,1)\n",
    "precision = dict()\n",
    "recall = dict()\n",
    "for i in range(n_classes):\n",
    "    precision[i] , recall[i], _ =precision_recall_curve(y_test[:,i],y_score[:,i])\n",
    "    ax.plot(recall[i], precision[i], label = \"target = %s\"%i)\n",
    "ax.set_xlabel(\"recall score\")\n",
    "ax.set_ylabel(\"precision score\")\n",
    "ax.set_title(\"P-R\")\n",
    "ax.legend(loc = \"best\")\n",
    "ax.set_xlim(0,1.1)\n",
    "ax.set_ylim(0,1.1)\n",
    "ax.grid()\n",
    "plt.show()"
   ]
  },
  {
   "cell_type": "code",
   "execution_count": 51,
   "metadata": {
    "collapsed": false
   },
   "outputs": [
    {
     "name": "stdout",
     "output_type": "stream",
     "text": [
      "mean absolute error:   0.8\n",
      "mean squared error:  1.2\n"
     ]
    }
   ],
   "source": [
    "#scikit-learn提供的mean-absolute-erros函数用于计算回归预测误差的绝对值的平均值\n",
    "from sklearn.metrics import mean_absolute_error, mean_squared_error\n",
    "y_true = [1,1,1,1,1,2,2,2,0,0]\n",
    "y_pred = [0,0,0,1,1,1,0,0,0,0]\n",
    "print \"mean absolute error:  \", mean_absolute_error(y_true, y_pred)\n",
    "print \"mean squared error: \",mean_squared_error(y_true, y_pred)"
   ]
  },
  {
   "cell_type": "code",
   "execution_count": 53,
   "metadata": {
    "collapsed": false
   },
   "outputs": [
    {
     "data": {
      "image/png": "[encoded data removed]",
      "text/plain": [
       "<matplotlib.figure.Figure at 0x7f42877a4f50>"
      ]
     },
     "metadata": {},
     "output_type": "display_data"
    }
   ],
   "source": [
    "#scikit-learn提供的validation_curve函数给出了学习器因为某个参数的不同取值在同一个测试集\n",
    "#上预测性能曲线\n",
    "import matplotlib.pyplot as plt\n",
    "import numpy as np\n",
    "from sklearn.datasets import load_digits\n",
    "from sklearn.svm import  LinearSVC\n",
    "from sklearn.model_selection import validation_curve\n",
    "#  加载数据\n",
    "digits = load_digits()\n",
    "x,y = digits.data,digits.target\n",
    "#获取验证曲线\n",
    "param_name = \"C\"\n",
    "param_range = np.logspace(-2,2)\n",
    "train_scores, test_scores = validation_curve(LinearSVC(),x,y,param_name = param_name, param_range = param_range,cv =10, scoring = \"accuracy\")\n",
    "train_scores_mean =np.mean(train_scores, axis =1)\n",
    "train_scores_std =np.std(train_scores, axis =1)\n",
    "test_scores_std =np.std(test_scores, axis =1)\n",
    "test_scores_mean =np.mean(test_scores, axis =1)\n",
    "#绘图\n",
    "fig  = plt.figure()\n",
    "ax = fig.add_subplot(1,1,1)\n",
    "ax.semilogx(param_range, train_scores_mean, label = \"train accuracy\", color = \"r\")\n",
    "ax.fill_between(param_range, train_scores_mean - train_scores_std,train_scores_mean + train_scores_std, alpha = 0.2, color = \"r\" )\n",
    "ax.semilogx(param_range, test_scores_mean, label = \"test accuracy\", color = \"g\")\n",
    "ax.fill_between(param_range, test_scores_mean - test_scores_std,test_scores_mean + test_scores_std, alpha = 0.2, color = \"g\" )\n",
    "ax.set_title(\"validation curve with linearsvc\")\n",
    "ax.set_xlabel(\"C\")\n",
    "ax.set_ylabel(\"score\")\n",
    "ax.set_ylim(0,1,1)\n",
    "ax.legend(loc = \"best\")\n",
    "plt.show()"
   ]
  },
  {
   "cell_type": "code",
   "execution_count": 60,
   "metadata": {
    "collapsed": false
   },
   "outputs": [
    {
     "name": "stdout",
     "output_type": "stream",
     "text": [
      "Best parameters set found:  {'penalty': 'l2', 'multi_class': 'multinomial', 'C': 0.05, 'solver': 'lbfgs'}\n",
      "Grid scores: \n",
      "\t0.930 (+/-0.031) for {'penalty': 'l1', 'multi_class': 'ovr', 'C': 0.01, 'solver': 'liblinear'}\n",
      "\t0.965 (+/-0.022) for {'penalty': 'l2', 'multi_class': 'ovr', 'C': 0.01, 'solver': 'liblinear'}\n",
      "\t0.964 (+/-0.022) for {'penalty': 'l1', 'multi_class': 'ovr', 'C': 0.05, 'solver': 'liblinear'}\n",
      "\t0.965 (+/-0.023) for {'penalty': 'l2', 'multi_class': 'ovr', 'C': 0.05, 'solver': 'liblinear'}\n",
      "\t0.965 (+/-0.024) for {'penalty': 'l1', 'multi_class': 'ovr', 'C': 0.1, 'solver': 'liblinear'}\n",
      "\t0.964 (+/-0.023) for {'penalty': 'l2', 'multi_class': 'ovr', 'C': 0.1, 'solver': 'liblinear'}\n",
      "\t0.958 (+/-0.030) for {'penalty': 'l1', 'multi_class': 'ovr', 'C': 0.5, 'solver': 'liblinear'}\n",
      "\t0.952 (+/-0.028) for {'penalty': 'l2', 'multi_class': 'ovr', 'C': 0.5, 'solver': 'liblinear'}\n",
      "\t0.951 (+/-0.025) for {'penalty': 'l1', 'multi_class': 'ovr', 'C': 1, 'solver': 'liblinear'}\n",
      "\t0.953 (+/-0.028) for {'penalty': 'l2', 'multi_class': 'ovr', 'C': 1, 'solver': 'liblinear'}\n",
      "\t0.952 (+/-0.022) for {'penalty': 'l1', 'multi_class': 'ovr', 'C': 5, 'solver': 'liblinear'}\n",
      "\t0.951 (+/-0.025) for {'penalty': 'l2', 'multi_class': 'ovr', 'C': 5, 'solver': 'liblinear'}\n",
      "\t0.950 (+/-0.020) for {'penalty': 'l1', 'multi_class': 'ovr', 'C': 10, 'solver': 'liblinear'}\n",
      "\t0.951 (+/-0.023) for {'penalty': 'l2', 'multi_class': 'ovr', 'C': 10, 'solver': 'liblinear'}\n",
      "\t0.946 (+/-0.017) for {'penalty': 'l1', 'multi_class': 'ovr', 'C': 50, 'solver': 'liblinear'}\n",
      "\t0.944 (+/-0.027) for {'penalty': 'l2', 'multi_class': 'ovr', 'C': 50, 'solver': 'liblinear'}\n",
      "\t0.943 (+/-0.018) for {'penalty': 'l1', 'multi_class': 'ovr', 'C': 100, 'solver': 'liblinear'}\n",
      "\t0.941 (+/-0.028) for {'penalty': 'l2', 'multi_class': 'ovr', 'C': 100, 'solver': 'liblinear'}\n",
      "\t0.964 (+/-0.027) for {'penalty': 'l2', 'multi_class': 'ovr', 'C': 0.01, 'solver': 'lbfgs'}\n",
      "\t0.966 (+/-0.023) for {'penalty': 'l2', 'multi_class': 'multinomial', 'C': 0.01, 'solver': 'lbfgs'}\n",
      "\t0.964 (+/-0.018) for {'penalty': 'l2', 'multi_class': 'ovr', 'C': 0.05, 'solver': 'lbfgs'}\n",
      "\t0.967 (+/-0.017) for {'penalty': 'l2', 'multi_class': 'multinomial', 'C': 0.05, 'solver': 'lbfgs'}\n",
      "\t0.964 (+/-0.022) for {'penalty': 'l2', 'multi_class': 'ovr', 'C': 0.1, 'solver': 'lbfgs'}\n",
      "\t0.964 (+/-0.023) for {'penalty': 'l2', 'multi_class': 'multinomial', 'C': 0.1, 'solver': 'lbfgs'}\n",
      "\t0.953 (+/-0.026) for {'penalty': 'l2', 'multi_class': 'ovr', 'C': 0.5, 'solver': 'lbfgs'}\n",
      "\t0.964 (+/-0.026) for {'penalty': 'l2', 'multi_class': 'multinomial', 'C': 0.5, 'solver': 'lbfgs'}\n",
      "\t0.952 (+/-0.028) for {'penalty': 'l2', 'multi_class': 'ovr', 'C': 1, 'solver': 'lbfgs'}\n",
      "\t0.963 (+/-0.021) for {'penalty': 'l2', 'multi_class': 'multinomial', 'C': 1, 'solver': 'lbfgs'}\n",
      "\t0.952 (+/-0.027) for {'penalty': 'l2', 'multi_class': 'ovr', 'C': 5, 'solver': 'lbfgs'}\n",
      "\t0.961 (+/-0.026) for {'penalty': 'l2', 'multi_class': 'multinomial', 'C': 5, 'solver': 'lbfgs'}\n",
      "\t0.949 (+/-0.032) for {'penalty': 'l2', 'multi_class': 'ovr', 'C': 10, 'solver': 'lbfgs'}\n",
      "\t0.959 (+/-0.026) for {'penalty': 'l2', 'multi_class': 'multinomial', 'C': 10, 'solver': 'lbfgs'}\n",
      "\t0.944 (+/-0.026) for {'penalty': 'l2', 'multi_class': 'ovr', 'C': 50, 'solver': 'lbfgs'}\n",
      "\t0.958 (+/-0.030) for {'penalty': 'l2', 'multi_class': 'multinomial', 'C': 50, 'solver': 'lbfgs'}\n",
      "\t0.937 (+/-0.030) for {'penalty': 'l2', 'multi_class': 'ovr', 'C': 100, 'solver': 'lbfgs'}\n",
      "\t0.956 (+/-0.026) for {'penalty': 'l2', 'multi_class': 'multinomial', 'C': 100, 'solver': 'lbfgs'}\n",
      "optimized score:  0.966666666667\n",
      "Detailed classification report: \n",
      "             precision    recall  f1-score   support\n",
      "\n",
      "          0       1.00      0.98      0.99        45\n",
      "          1       0.85      0.98      0.91        46\n",
      "          2       1.00      0.98      0.99        44\n",
      "          3       0.98      1.00      0.99        46\n",
      "          4       0.98      0.93      0.95        45\n",
      "          5       0.98      0.93      0.96        46\n",
      "          6       1.00      0.98      0.99        45\n",
      "          7       0.98      0.98      0.98        45\n",
      "          8       0.95      0.93      0.94        43\n",
      "          9       0.98      0.98      0.98        45\n",
      "\n",
      "avg / total       0.97      0.97      0.97       450\n",
      "\n"
     ]
    },
    {
     "name": "stderr",
     "output_type": "stream",
     "text": [
      "/usr/local/lib/python2.7/dist-packages/sklearn/model_selection/_search.py:667: DeprecationWarning: The grid_scores_ attribute was deprecated in version 0.18 in favor of the more elaborate cv_results_ attribute. The grid_scores_ attribute will not be available from 0.20\n",
      "  DeprecationWarning)\n"
     ]
    }
   ],
   "source": [
    "#参数优化\n",
    "#网格搜索为自动化调参的常见技术之一，grid_search包提供了自动化调参的工具，包括GridSearchCV类，GridSearchCV根据给定的模型\n",
    "#自动进行交叉验证，调节每一个参数来跟踪评分结果。\n",
    "from sklearn.datasets import load_digits\n",
    "from sklearn.linear_model import LogisticRegression\n",
    "from sklearn.model_selection import GridSearchCV\n",
    "from sklearn.metrics import classification_report\n",
    "from sklearn.model_selection import train_test_split\n",
    "#加载数据\n",
    "digits = load_digits()\n",
    "x,y = digits.data,digits.target\n",
    "x_train,x_test,y_train,y_test = train_test_split(x,y, test_size = 0.25, random_state = 0, stratify = y)\n",
    "#参数优化\n",
    "tuned_parameters = [{'penalty':['l1','l2'], 'C':[0.01,0.05,0.1,0.5,1,5,10,50,100],'solver':['liblinear'],'multi_class':['ovr']},\\\n",
    "                    {'penalty':['l2',], 'C':[0.01,0.05,0.1,0.5,1,5,10,50,100],'solver':['lbfgs'],'multi_class':['ovr','multinomial']}]\n",
    "clf =GridSearchCV(LogisticRegression(tol = 1e-6), tuned_parameters, cv =10)\n",
    "clf.fit(x_train,y_train)\n",
    "print \"Best parameters set found: \",clf.best_params_\n",
    "print \"Grid scores: \"\n",
    "for params, mean_score, scores, in clf.grid_scores_:\n",
    "    print \"\\t%0.3f (+/-%0.03f) for %s\"%(mean_score, scores.std()*2,params)\n",
    "print \"optimized score: \",clf.score(x_test,y_test)\n",
    "print \"Detailed classification report: \"\n",
    "y_true, y_pred = y_test, clf.predict(x_test)\n",
    "print classification_report(y_true,y_pred)"
   ]
  }
 ],
 "metadata": {
  "anaconda-cloud": {},
  "kernelspec": {
   "display_name": "Python [default]",
   "language": "python",
   "name": "python2"
  },
  "language_info": {
   "codemirror_mode": {
    "name": "ipython",
    "version": 2
   },
   "file_extension": ".py",
   "mimetype": "text/x-python",
   "name": "python",
   "nbconvert_exporter": "python",
   "pygments_lexer": "ipython2",
   "version": "2.7.12"
  },
  "toc": {
   "nav_menu": {},
   "number_sections": true,
   "sideBar": true,
   "skip_h1_title": false,
   "toc_cell": false,
   "toc_position": {},
   "toc_section_display": "block",
   "toc_window_display": false
  }
 },
 "nbformat": 4,
 "nbformat_minor": 2
}
