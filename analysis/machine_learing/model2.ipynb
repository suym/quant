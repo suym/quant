{
 "cells": [
  {
   "cell_type": "code",
   "execution_count": 1,
   "metadata": {
    "collapsed": true
   },
   "outputs": [],
   "source": [
    "import numpy as np\n",
    "import pandas as pd\n",
    "from tool import features_com\n",
    "from sklearn.preprocessing import StandardScaler"
   ]
  },
  {
   "cell_type": "code",
   "execution_count": 2,
   "metadata": {
    "collapsed": false
   },
   "outputs": [
    {
     "name": "stdout",
     "output_type": "stream",
     "text": [
      "CPU times: user 14.4 s, sys: 32.7 s, total: 47.2 s\n",
      "Wall time: 47.4 s\n"
     ]
    }
   ],
   "source": [
    "%%time\n",
    "hft_data = pd.read_csv('../../good_data/HFT_XY_unselected.csv')"
   ]
  },
  {
   "cell_type": "code",
   "execution_count": 3,
   "metadata": {
    "collapsed": false
   },
   "outputs": [
    {
     "name": "stdout",
     "output_type": "stream",
     "text": [
      "   Unnamed: 0   X1   X2   X3        X4        X5   X6        X7   X8  \\\n",
      "0           0 -0.0 -0.0 -0.0 -0.000000 -0.000000 -0.0 -0.000000 -0.0   \n",
      "1           1 -0.0 -0.0 -0.0  0.551516  1.103168 -0.0 -0.949546 -0.0   \n",
      "2           2 -0.0 -0.0 -0.0  0.874133  0.753029 -0.0 -0.000000 -0.0   \n",
      "3           3 -0.0 -0.0 -0.0 -0.874133  0.475108 -0.0 -0.000000 -0.0   \n",
      "4           4 -0.0 -0.0 -0.0 -0.874133  1.333798 -0.0 -0.000000 -0.0   \n",
      "\n",
      "         X9    ...         X325      X326      X327      X328      X329  \\\n",
      "0  4.506952    ...     4.139076  3.443876  6.085272  4.589867 -2.979077   \n",
      "1 -0.000000    ...     4.151743  4.566135  6.904618  3.911805 -4.863125   \n",
      "2 -0.000000    ...     4.139076  4.062686  8.037572  4.589867 -3.737310   \n",
      "3 -0.000000    ...     4.139076  4.031714  7.738847  4.589867 -3.202318   \n",
      "4 -0.000000    ...     4.151743  3.638764  6.904618  3.911805 -4.063161   \n",
      "\n",
      "       X330      X331      X332     realY  predictY  \n",
      "0 -6.393372 -4.417067 -4.611922 -0.000000       0.0  \n",
      "1 -9.709144 -3.535746 -3.946805  1.199756       0.0  \n",
      "2 -7.461474 -4.846605 -5.060409 -0.516707       0.0  \n",
      "3 -8.799307 -3.505467 -4.390713 -0.000000       0.0  \n",
      "4 -9.709144 -4.418497 -4.613416  1.033414       0.0  \n",
      "\n",
      "[5 rows x 335 columns]\n"
     ]
    }
   ],
   "source": [
    "print hft_data.head()"
   ]
  },
  {
   "cell_type": "code",
   "execution_count": 10,
   "metadata": {
    "collapsed": false
   },
   "outputs": [],
   "source": [
    "names = [\"X%s\"% i for i in range(13,333)]+['Unnamed: 0', 'realY','predictY']"
   ]
  },
  {
   "cell_type": "code",
   "execution_count": 11,
   "metadata": {
    "collapsed": false
   },
   "outputs": [
    {
     "name": "stdout",
     "output_type": "stream",
     "text": [
      "CPU times: user 59 ms, sys: 1e+03 µs, total: 60 ms\n",
      "Wall time: 58 ms\n"
     ]
    }
   ],
   "source": [
    "%%time\n",
    "x_ori = hft_data.drop(names, axis = 1)\n",
    "scaler = StandardScaler().fit(x_ori)\n",
    "X = scaler.transform(x_ori)\n",
    "X = pd.DataFrame(X, index = x_ori.index, columns = x_ori.columns)\n",
    "Y = hft_data[\"realY\"]"
   ]
  },
  {
   "cell_type": "code",
   "execution_count": 12,
   "metadata": {
    "collapsed": false,
    "scrolled": true
   },
   "outputs": [
    {
     "name": "stderr",
     "output_type": "stream",
     "text": [
      "/afs/ihep.ac.cn/users/s/suym/suym_local/anaconda2/lib/python2.7/site-packages/sklearn/utils/deprecation.py:57: DeprecationWarning: Class RandomizedLasso is deprecated; The class RandomizedLasso is deprecated in 0.19 and will be removed in 0.21.\n",
      "  warnings.warn(msg, category=DeprecationWarning)\n"
     ]
    },
    {
     "name": "stdout",
     "output_type": "stream",
     "text": [
      "     Linear reg  Ridge  Lasso  Stability   RFE    RF  Corr.   MIC\n",
      "X1         0.21   0.21    0.0        0.0  1.00  0.13   0.05  0.09\n",
      "X2         0.15   0.15    0.0        0.0  0.86  0.30   0.27  0.39\n",
      "X3         0.55   0.55    0.0        0.0  1.00  0.28   0.66  0.74\n",
      "X4         1.00   1.00    0.0        0.0  1.00  0.39   1.00  1.00\n",
      "X5         0.01   0.01    0.0        0.0  0.14  1.00   0.24  0.98\n",
      "X6         0.04   0.04    0.0        0.0  0.57  0.00   0.00  0.00\n",
      "X7         0.14   0.14    0.0        0.0  0.71  0.31   0.00  0.15\n",
      "X8         0.03   0.03    0.0        0.0  0.29  0.01   0.00  0.01\n",
      "X9         0.28   0.28    0.0        0.0  1.00  0.94   0.04  0.79\n",
      "X10        0.00   0.00    0.0        0.0  0.00  0.05   0.00  0.14\n",
      "X11        0.33   0.33    0.0        0.0  1.00  0.91   0.06  0.75\n",
      "X12        0.05   0.05    0.0        0.0  0.43  0.05   0.00  0.13\n"
     ]
    }
   ],
   "source": [
    "ranks=features_com(X,Y)\n",
    "print ranks"
   ]
  }
 ],
 "metadata": {
  "anaconda-cloud": {},
  "kernelspec": {
   "display_name": "Python [default]",
   "language": "python",
   "name": "python2"
  },
  "language_info": {
   "codemirror_mode": {
    "name": "ipython",
    "version": 2
   },
   "file_extension": ".py",
   "mimetype": "text/x-python",
   "name": "python",
   "nbconvert_exporter": "python",
   "pygments_lexer": "ipython2",
   "version": "2.7.12"
  },
  "toc": {
   "nav_menu": {},
   "number_sections": true,
   "sideBar": true,
   "skip_h1_title": false,
   "toc_cell": false,
   "toc_position": {},
   "toc_section_display": "block",
   "toc_window_display": false
  }
 },
 "nbformat": 4,
 "nbformat_minor": 1
}
